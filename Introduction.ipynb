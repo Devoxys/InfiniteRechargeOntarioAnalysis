{
 "cells": [
  {
   "cell_type": "markdown",
   "metadata": {},
   "source": [
    "# A look into the 2020 FRC Game: Infinite Recharge, ONT\n",
    "\n",
    "This notebook is a collection of data analyses on the 2020 FRC season and its game, Infinite Recharge, in the Ontario District. This season was unfortunately cut short due to COVID19. Due to this, FIRST has indicated that they are going to replay the game the following year (with changes and/or retheming, presumably). Thus, I hope the findings here can be useful for what is shaping up to be one of the most unique years in all of FRC. \n",
    "\n",
    "The data used is taken from <a href=\"https://www.thebluealliance.com/apidocs/v3\">The Blue Alliance's API</a>. Before the season's suspension, 3 district competitions took place (week 2). \n",
    "\n",
    "#### A little about the author\n",
    "This is written by an amateur trying to learn Python's data tools (pandas/numpy/matplotlib). This isn't my first time looking at data on FRC, my final project for MDM4U (Data) was on 2019's Deep Space. In fact, many of the analyses done here are based on the analyses done for that project. This won't be nearly as formal as that however. For the most part, I'll be showing code, graphs and providing my observations/commentary on it, coming to your own conclusions are welcome of course. I'll be happy as long as people find this useful :). To my own team (4308), I'll continue to cheer you guys on and lend a hand when I can! I sort of consider this my farewell gift to you guys. "
   ]
  },
  {
   "cell_type": "code",
   "execution_count": null,
   "metadata": {},
   "outputs": [],
   "source": []
  }
 ],
 "metadata": {
  "kernelspec": {
   "display_name": "Python 3",
   "language": "python",
   "name": "python3"
  },
  "language_info": {
   "codemirror_mode": {
    "name": "ipython",
    "version": 3
   },
   "file_extension": ".py",
   "mimetype": "text/x-python",
   "name": "python",
   "nbconvert_exporter": "python",
   "pygments_lexer": "ipython3",
   "version": "3.7.6"
  }
 },
 "nbformat": 4,
 "nbformat_minor": 4
}
