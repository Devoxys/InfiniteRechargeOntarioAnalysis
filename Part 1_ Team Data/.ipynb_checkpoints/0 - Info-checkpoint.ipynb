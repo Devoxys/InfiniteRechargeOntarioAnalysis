{
 "cells": [
  {
   "cell_type": "markdown",
   "metadata": {},
   "source": [
    "# Part 1: Team Data\n",
    "\n",
    "This section is on the data found in 2020ont_teamdata.csv. It features data on individual teams. See the appropriate notebook to see what kind of data this includes, but generally its data on District Rankings and Event performance. \n",
    "\n",
    "The data is courtesty of The Blue Alliance API, specifically the district rankings and the team event statuses. Teams that have not competed in this season were removed. For teams that have completed 2 events, the best performaning event by district points was taken. "
   ]
  },
  {
   "cell_type": "code",
   "execution_count": null,
   "metadata": {},
   "outputs": [],
   "source": []
  }
 ],
 "metadata": {
  "kernelspec": {
   "display_name": "Python 3",
   "language": "python",
   "name": "python3"
  },
  "language_info": {
   "codemirror_mode": {
    "name": "ipython",
    "version": 3
   },
   "file_extension": ".py",
   "mimetype": "text/x-python",
   "name": "python",
   "nbconvert_exporter": "python",
   "pygments_lexer": "ipython3",
   "version": "3.7.6"
  }
 },
 "nbformat": 4,
 "nbformat_minor": 4
}
